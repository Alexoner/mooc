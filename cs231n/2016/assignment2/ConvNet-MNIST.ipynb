{
 "cells": [
  {
   "cell_type": "markdown",
   "metadata": {},
   "source": [
    "# Apply convolutional neural network to MNIST hand-written digits dataset"
   ]
  },
  {
   "cell_type": "code",
   "execution_count": 1,
   "metadata": {
    "collapsed": false
   },
   "outputs": [],
   "source": [
    "# As usual, a bit of setup\n",
    "\n",
    "import numpy as np\n",
    "import matplotlib.pyplot as plt\n",
    "\n",
    "%matplotlib inline\n",
    "plt.rcParams['figure.figsize'] = (10.0, 8.0) # set default size of plots\n",
    "plt.rcParams['image.interpolation'] = 'nearest'\n",
    "plt.rcParams['image.cmap'] = 'gray'\n",
    "\n",
    "# for auto-reloading external modules\n",
    "# see http://stackoverflow.com/questions/1907993/autoreload-of-modules-in-ipython\n",
    "%load_ext autoreload\n",
    "%autoreload 2\n",
    "\n",
    "def rel_error(x, y):\n",
    "  \"\"\" returns relative error \"\"\"\n",
    "  return np.max(np.abs(x - y) / (np.maximum(1e-8, np.abs(x) + np.abs(y))))"
   ]
  },
  {
   "cell_type": "code",
   "execution_count": 2,
   "metadata": {
    "collapsed": false
   },
   "outputs": [],
   "source": [
    "# Copyright 2015 Google Inc. All Rights Reserved.\n",
    "#\n",
    "# Licensed under the Apache License, Version 2.0 (the \"License\");\n",
    "# you may not use this file except in compliance with the License.\n",
    "# You may obtain a copy of the License at\n",
    "#\n",
    "#     http://www.apache.org/licenses/LICENSE-2.0\n",
    "#\n",
    "# Unless required by applicable law or agreed to in writing, software\n",
    "# distributed under the License is distributed on an \"AS IS\" BASIS,\n",
    "# WITHOUT WARRANTIES OR CONDITIONS OF ANY KIND, either express or implied.\n",
    "# See the License for the specific language governing permissions and\n",
    "# limitations under the License.\n",
    "# ==============================================================================\n",
    "\n",
    "\"\"\"Simple, end-to-end, LeNet-5-like convolutional MNIST model example.\n",
    "\n",
    "This should achieve a test error of 0.7%. Please keep this model as simple and\n",
    "linear as possible, it is meant as a tutorial for simple convolutional models.\n",
    "Run with --self_test on the command line to execute a short self-test.\n",
    "\"\"\"\n",
    "from __future__ import absolute_import\n",
    "from __future__ import division\n",
    "from __future__ import print_function\n",
    "\n",
    "import gzip\n",
    "import os\n",
    "import sys\n",
    "import time\n",
    "\n",
    "import numpy\n",
    "from six.moves import urllib\n",
    "from six.moves import xrange  # pylint: disable=redefined-builtin\n",
    "import tensorflow as tf\n",
    "\n",
    "SOURCE_URL = 'http://yann.lecun.com/exdb/mnist/'\n",
    "WORK_DIRECTORY = 'data'\n",
    "IMAGE_SIZE = 28\n",
    "NUM_CHANNELS = 1\n",
    "PIXEL_DEPTH = 255\n",
    "NUM_LABELS = 10\n",
    "VALIDATION_SIZE = 5000  # Size of the validation set.\n",
    "SEED = 66478  # Set to None for random seed.\n",
    "BATCH_SIZE = 64\n",
    "NUM_EPOCHS = 10\n",
    "EVAL_BATCH_SIZE = 64\n",
    "EVAL_FREQUENCY = 100  # Number of steps between evaluations.\n",
    "\n",
    "\n",
    "tf.app.flags.DEFINE_boolean(\"self_test\", False, \"True if running a self test.\")\n",
    "FLAGS = tf.app.flags.FLAGS"
   ]
  },
  {
   "cell_type": "code",
   "execution_count": 3,
   "metadata": {
    "collapsed": true
   },
   "outputs": [],
   "source": [
    "def maybe_download(filename):\n",
    "  \"\"\"Download the data from Yann's website, unless it's already here.\"\"\"\n",
    "  if not tf.gfile.Exists(WORK_DIRECTORY):\n",
    "    tf.gfile.MakeDirs(WORK_DIRECTORY)\n",
    "  filepath = os.path.join(WORK_DIRECTORY, filename)\n",
    "  if not tf.gfile.Exists(filepath):\n",
    "    filepath, _ = urllib.request.urlretrieve(SOURCE_URL + filename, filepath)\n",
    "    with tf.gfile.GFile(filepath) as f:\n",
    "      size = f.Size()\n",
    "    print('Successfully downloaded', filename, size, 'bytes.')\n",
    "  return filepath\n",
    "\n",
    "\n",
    "def extract_data(filename, num_images):\n",
    "  \"\"\"Extract the images into a 4D tensor [image index, y, x, channels].\n",
    "\n",
    "  Values are rescaled from [0, 255] down to [-0.5, 0.5].\n",
    "  \"\"\"\n",
    "  print('Extracting', filename)\n",
    "  with gzip.open(filename) as bytestream:\n",
    "    bytestream.read(16)\n",
    "    buf = bytestream.read(IMAGE_SIZE * IMAGE_SIZE * num_images)\n",
    "    data = numpy.frombuffer(buf, dtype=numpy.uint8).astype(numpy.float32)\n",
    "    data = (data - (PIXEL_DEPTH / 2.0)) / PIXEL_DEPTH\n",
    "    data = data.reshape(num_images, IMAGE_SIZE, IMAGE_SIZE, 1)\n",
    "    return data\n",
    "\n",
    "\n",
    "def extract_labels(filename, num_images):\n",
    "  \"\"\"Extract the labels into a vector of int64 label IDs.\"\"\"\n",
    "  print('Extracting', filename)\n",
    "  with gzip.open(filename) as bytestream:\n",
    "    bytestream.read(8)\n",
    "    buf = bytestream.read(1 * num_images)\n",
    "    labels = numpy.frombuffer(buf, dtype=numpy.uint8).astype(numpy.int64)\n",
    "  return labels\n",
    "\n",
    "\n",
    "def fake_data(num_images):\n",
    "  \"\"\"Generate a fake dataset that matches the dimensions of MNIST.\"\"\"\n",
    "  data = numpy.ndarray(\n",
    "      shape=(num_images, IMAGE_SIZE, IMAGE_SIZE, NUM_CHANNELS),\n",
    "      dtype=numpy.float32)\n",
    "  labels = numpy.zeros(shape=(num_images,), dtype=numpy.int64)\n",
    "  for image in xrange(num_images):\n",
    "    label = image % 2\n",
    "    data[image, :, :, 0] = label - 0.5\n",
    "    labels[image] = label\n",
    "  return data, labels\n",
    "\n",
    "\n",
    "def error_rate(predictions, labels):\n",
    "  \"\"\"Return the error rate based on dense predictions and sparse labels.\"\"\"\n",
    "  return 100.0 - (\n",
    "      100.0 *\n",
    "      numpy.sum(numpy.argmax(predictions, 1) == labels) /\n",
    "      predictions.shape[0])\n",
    "\n",
    "def load_test_data():\n",
    "    print('Running self-test.')\n",
    "    train_data, train_labels = fake_data(256)\n",
    "    validation_data, validation_labels = fake_data(EVAL_BATCH_SIZE)\n",
    "    test_data, test_labels = fake_data(EVAL_BATCH_SIZE)\n",
    "    return {\n",
    "        'X_train': train_data,\n",
    "        'y_train': train_labels,\n",
    "        'X_test': test_data,\n",
    "        'y_test': test_labels,\n",
    "        'X_val': validation_data,\n",
    "        'y_val': validation_labels,\n",
    "    }\n",
    "    \n",
    "def load_data():\n",
    "    # Get the data.\n",
    "    train_data_filename = maybe_download('train-images-idx3-ubyte.gz')\n",
    "    train_labels_filename = maybe_download('train-labels-idx1-ubyte.gz')\n",
    "    test_data_filename = maybe_download('t10k-images-idx3-ubyte.gz')\n",
    "    test_labels_filename = maybe_download('t10k-labels-idx1-ubyte.gz')\n",
    "\n",
    "    # Extract it into numpy arrays.\n",
    "    train_data = extract_data(train_data_filename, 60000)\n",
    "    train_labels = extract_labels(train_labels_filename, 60000)\n",
    "    test_data = extract_data(test_data_filename, 10000)\n",
    "    test_labels = extract_labels(test_labels_filename, 10000)\n",
    "    # Generate a validation set.\n",
    "    validation_data = train_data[:VALIDATION_SIZE, ...]\n",
    "    validation_labels = train_labels[:VALIDATION_SIZE]\n",
    "    train_data = train_data[VALIDATION_SIZE:, ...]\n",
    "    train_labels = train_labels[VALIDATION_SIZE:]\n",
    "    data = {\n",
    "        'X_train': train_data,\n",
    "        'y_train': train_labels,\n",
    "        'X_test': test_data,\n",
    "        'y_test': test_labels,\n",
    "        'X_val': validation_data,\n",
    "        'y_val': validation_labels,\n",
    "    }\n",
    "    for k, v in sorted(data.items()):\n",
    "        print('%s: ' % k, v.shape)\n",
    "    return data\n"
   ]
  },
  {
   "cell_type": "code",
   "execution_count": 4,
   "metadata": {
    "collapsed": false
   },
   "outputs": [
    {
     "name": "stdout",
     "output_type": "stream",
     "text": [
      "Extracting data/train-images-idx3-ubyte.gz\n",
      "Extracting data/train-labels-idx1-ubyte.gz\n",
      "Extracting data/t10k-images-idx3-ubyte.gz\n",
      "Extracting data/t10k-labels-idx1-ubyte.gz\n",
      "X_test:  (10000, 28, 28, 1)\n",
      "X_train:  (55000, 28, 28, 1)\n",
      "X_val:  (5000, 28, 28, 1)\n",
      "y_test:  (10000,)\n",
      "y_train:  (55000,)\n",
      "y_val:  (5000,)\n"
     ]
    }
   ],
   "source": [
    "data = load_data()"
   ]
  },
  {
   "cell_type": "markdown",
   "metadata": {},
   "source": [
    "# load data and visualization"
   ]
  },
  {
   "cell_type": "code",
   "execution_count": 5,
   "metadata": {
    "collapsed": false
   },
   "outputs": [
    {
     "data": {
      "image/png": "[encoded data removed]",
      "text/plain": [
       "<matplotlib.figure.Figure at 0x117087c50>"
      ]
     },
     "metadata": {},
     "output_type": "display_data"
    }
   ],
   "source": [
    "num_epochs = 1\n",
    "num_epochs = NUM_EPOCHS\n",
    "\n",
    "\n",
    "train_size = data['y_train'].shape[0]\n",
    "\n",
    "classes = set(data['y_train'])\n",
    "num_classes = len(classes)\n",
    "samples_per_class = 7\n",
    "for y, cls in enumerate(classes):\n",
    "    idxs = np.flatnonzero(data['y_train'] == y)\n",
    "    idxs = np.random.choice(idxs, samples_per_class, replace=False)\n",
    "    for i, idx in enumerate(idxs):\n",
    "        plt_idx = i * num_classes + y + 1\n",
    "        plt.subplot(samples_per_class, num_classes, plt_idx)\n",
    "        plt.imshow(data['X_train'][idx].reshape((28, 28)))\n",
    "        plt.axis('off')\n",
    "        if i == 0:\n",
    "            plt.title(cls)\n",
    "plt.show()"
   ]
  },
  {
   "cell_type": "markdown",
   "metadata": {},
   "source": [
    "# data node, parameter initialization and the model"
   ]
  },
  {
   "cell_type": "code",
   "execution_count": 6,
   "metadata": {
    "collapsed": false
   },
   "outputs": [],
   "source": [
    "# This is where training samples and labels are fed to the graph.\n",
    "# These placeholder nodes will be fed a batch of training data at each\n",
    "# training step using the {feed_dict} argument to the Run() call below.\n",
    "train_data_node = tf.placeholder(\n",
    "    tf.float32,\n",
    "    shape=(BATCH_SIZE, IMAGE_SIZE, IMAGE_SIZE, NUM_CHANNELS))\n",
    "train_labels_node = tf.placeholder(tf.int64, shape=(BATCH_SIZE,))\n",
    "eval_data_node = tf.placeholder(\n",
    "    tf.float32,\n",
    "    shape=(EVAL_BATCH_SIZE, IMAGE_SIZE, IMAGE_SIZE, NUM_CHANNELS))\n",
    "\n",
    "# The variables below hold all the trainable weights. They are passed an\n",
    "# initial value which will be assigned when we call:\n",
    "# {tf.initialize_all_variables().run()}\n",
    "conv1_weights = tf.Variable(\n",
    "    tf.truncated_normal([5, 5, NUM_CHANNELS, 32],  # 5x5 filter, depth 32.\n",
    "                        stddev=0.1,\n",
    "                        seed=SEED))\n",
    "conv1_biases = tf.Variable(tf.zeros([32]))\n",
    "conv2_weights = tf.Variable(\n",
    "    tf.truncated_normal([5, 5, 32, 64],\n",
    "                        stddev=0.1,\n",
    "                        seed=SEED))\n",
    "conv2_biases = tf.Variable(tf.constant(0.1, shape=[64]))\n",
    "fc1_weights = tf.Variable(  # fully connected, depth 512.\n",
    "    tf.truncated_normal(\n",
    "        [IMAGE_SIZE // 4 * IMAGE_SIZE // 4 * 64, 512],\n",
    "        stddev=0.1,\n",
    "        seed=SEED))\n",
    "fc1_biases = tf.Variable(tf.constant(0.1, shape=[512]))\n",
    "fc2_weights = tf.Variable(\n",
    "    tf.truncated_normal([512, NUM_LABELS],\n",
    "                        stddev=0.1,\n",
    "                        seed=SEED))\n",
    "fc2_biases = tf.Variable(tf.constant(0.1, shape=[NUM_LABELS]))\n",
    "\n",
    "# We will replicate the model structure for the training subgraph, as well\n",
    "# as the evaluation subgraphs, while sharing the trainable parameters.\n",
    "def model(data, train=False):\n",
    "    \"\"\"The Model definition.\"\"\"\n",
    "    # 2D convolution, with 'SAME' padding (i.e. the output feature map has\n",
    "    # the same size as the input). Note that {strides} is a 4D array whose\n",
    "    # shape matches the data layout: [image index, y, x, depth].\n",
    "    conv = tf.nn.conv2d(data,\n",
    "                        conv1_weights,\n",
    "                        strides=[1, 1, 1, 1],\n",
    "                        padding='SAME')\n",
    "    # Bias and rectified linear non-linearity.\n",
    "    relu = tf.nn.relu(tf.nn.bias_add(conv, conv1_biases))\n",
    "    # Max pooling. The kernel size spec {ksize} also follows the layout of\n",
    "    # the data. Here we have a pooling window of 2, and a stride of 2.\n",
    "    pool = tf.nn.max_pool(relu,\n",
    "                          ksize=[1, 2, 2, 1],\n",
    "                          strides=[1, 2, 2, 1],\n",
    "                          padding='SAME')\n",
    "    conv = tf.nn.conv2d(pool,\n",
    "                        conv2_weights,\n",
    "                        strides=[1, 1, 1, 1],\n",
    "                        padding='SAME')\n",
    "    relu = tf.nn.relu(tf.nn.bias_add(conv, conv2_biases))\n",
    "    pool = tf.nn.max_pool(relu,\n",
    "                          ksize=[1, 2, 2, 1],\n",
    "                          strides=[1, 2, 2, 1],\n",
    "                          padding='SAME')\n",
    "    # Reshape the feature map cuboid into a 2D matrix to feed it to the\n",
    "    # fully connected layers.\n",
    "    pool_shape = pool.get_shape().as_list()\n",
    "    reshape = tf.reshape(\n",
    "        pool,\n",
    "        [pool_shape[0], pool_shape[1] * pool_shape[2] * pool_shape[3]])\n",
    "    # Fully connected layer. Note that the '+' operation automatically\n",
    "    # broadcasts the biases.\n",
    "    hidden = tf.nn.relu(tf.matmul(reshape, fc1_weights) + fc1_biases)\n",
    "    # Add a 50% dropout during training only. Dropout also scales\n",
    "    # activations such that no rescaling is needed at evaluation time.\n",
    "    if train:\n",
    "        hidden = tf.nn.dropout(hidden, 0.5, seed=SEED)\n",
    "    return tf.matmul(hidden, fc2_weights) + fc2_biases"
   ]
  },
  {
   "cell_type": "markdown",
   "metadata": {},
   "source": [
    "# Build the computation graph"
   ]
  },
  {
   "cell_type": "code",
   "execution_count": 7,
   "metadata": {
    "collapsed": false
   },
   "outputs": [],
   "source": [
    "# Training computation: logits + cross-entropy loss.\n",
    "logits = model(train_data_node, True)\n",
    "loss = tf.reduce_mean(tf.nn.sparse_softmax_cross_entropy_with_logits(\n",
    "    logits, train_labels_node))\n",
    "\n",
    "# L2 regularization for the fully connected parameters.\n",
    "regularizers = (tf.nn.l2_loss(fc1_weights) + tf.nn.l2_loss(fc1_biases) +\n",
    "                tf.nn.l2_loss(fc2_weights) + tf.nn.l2_loss(fc2_biases))\n",
    "# Add the regularization term to the loss.\n",
    "loss += 5e-4 * regularizers\n",
    "\n",
    "# Optimizer: set up a variable that's incremented once per batch and\n",
    "# controls the learning rate decay.\n",
    "batch = tf.Variable(0)\n",
    "# Decay once per epoch, using an exponential schedule starting at 0.01.\n",
    "learning_rate = tf.train.exponential_decay(\n",
    "    0.01,                # Base learning rate.\n",
    "    batch * BATCH_SIZE,  # Current index into the dataset.\n",
    "    train_size,          # Decay step.\n",
    "    0.95,                # Decay rate.\n",
    "    staircase=True)\n",
    "# Use simple momentum for the optimization.\n",
    "optimizer = tf.train.MomentumOptimizer(learning_rate,\n",
    "                                       0.9).minimize(loss,\n",
    "                                                     global_step=batch)\n",
    "\n",
    "# Predictions for the current training minibatch.\n",
    "train_prediction = tf.nn.softmax(logits)\n",
    "\n",
    "# Predictions for the test and validation, which we'll compute less often.\n",
    "eval_prediction = tf.nn.softmax(model(eval_data_node))\n",
    "\n",
    "# Small utility function to evaluate a dataset by feeding batches of data to\n",
    "# {eval_data} and pulling the results from {eval_predictions}.\n",
    "# Saves memory and enables this to run on smaller GPUs.\n",
    "def eval_in_batches(data, sess):\n",
    "    \"\"\"Get all predictions for a dataset by running it in small batches.\"\"\"\n",
    "    size = data.shape[0]\n",
    "    if size < EVAL_BATCH_SIZE:\n",
    "        raise ValueError(\n",
    "            \"batch size for evals larger than dataset: %d\" %\n",
    "            size)\n",
    "    predictions = numpy.ndarray(\n",
    "        shape=(\n",
    "            size,\n",
    "            NUM_LABELS),\n",
    "        dtype=numpy.float32)\n",
    "    for begin in xrange(0, size, EVAL_BATCH_SIZE):\n",
    "        end = begin + EVAL_BATCH_SIZE\n",
    "        if end <= size:\n",
    "            predictions[begin:end, :] = sess.run(\n",
    "                eval_prediction,\n",
    "                feed_dict={eval_data_node: data[begin:end, ...]})\n",
    "        else:\n",
    "            batch_predictions = sess.run(\n",
    "                eval_prediction,\n",
    "                feed_dict={eval_data_node: data[-EVAL_BATCH_SIZE:, ...]})\n",
    "            predictions[begin:, :] = batch_predictions[begin - size:, :]\n",
    "    return predictions"
   ]
  },
  {
   "cell_type": "markdown",
   "metadata": {},
   "source": [
    "# run the computation graph"
   ]
  },
  {
   "cell_type": "code",
   "execution_count": 8,
   "metadata": {
    "collapsed": true
   },
   "outputs": [],
   "source": [
    "def train(data, sess):\n",
    "    train_data = data['X_train']\n",
    "    train_labels = data['y_train']\n",
    "    validation_data = data['X_val']\n",
    "    validation_labels = data['y_val']\n",
    "    test_data = data['X_test']\n",
    "    test_labels = data['y_test']\n",
    "    # Create a local session to run the training.\n",
    "    start_time = time.time()\n",
    "    print('Initialized!')\n",
    "    # Loop through training steps.\n",
    "    for step in xrange(int(num_epochs * train_size) // BATCH_SIZE):\n",
    "        # Compute the offset of the current minibatch in the data.\n",
    "        # Note that we could use better randomization across epochs.\n",
    "        offset = (step * BATCH_SIZE) % (train_size - BATCH_SIZE)\n",
    "        batch_data = train_data[offset:(offset + BATCH_SIZE), ...]\n",
    "        batch_labels = train_labels[offset:(offset + BATCH_SIZE)]\n",
    "        # This dictionary maps the batch data (as a numpy array) to the\n",
    "        # node in the graph it should be fed to.\n",
    "        feed_dict = {train_data_node: batch_data,\n",
    "                     train_labels_node: batch_labels}\n",
    "        # Run the graph and fetch some of the nodes.\n",
    "        _, l, lr, predictions = sess.run(\n",
    "            [optimizer, loss, learning_rate, train_prediction],\n",
    "            feed_dict=feed_dict)\n",
    "        if step % EVAL_FREQUENCY == 0:\n",
    "            elapsed_time = time.time() - start_time\n",
    "            start_time = time.time()\n",
    "            print('Step %d (epoch %.2f), %.1f ms' %\n",
    "                  (step, float(step) * BATCH_SIZE / train_size,\n",
    "                   1000 * elapsed_time / EVAL_FREQUENCY))\n",
    "            print('Minibatch loss: %.3f, learning rate: %.6f' % (l, lr))\n",
    "            print(\n",
    "                'Minibatch error: %.1f%%' %\n",
    "                error_rate(\n",
    "                    predictions,\n",
    "                    batch_labels))\n",
    "            print('Validation error: %.1f%%' % error_rate(\n",
    "                eval_in_batches(validation_data, sess), validation_labels))\n",
    "            sys.stdout.flush()\n",
    "    # Finally print the result!\n",
    "    test_labels_predict = eval_in_batches(test_data, sess)\n",
    "    test_error = error_rate(test_labels_predict, test_labels)\n",
    "    print('Test error: %.1f%%' % test_error)\n",
    "    if FLAGS.self_test:\n",
    "        print('test_error', test_error)\n",
    "        assert test_error == 0.0, 'expected 0.0 test_error, got %.2f' % (\n",
    "            test_error,)"
   ]
  },
  {
   "cell_type": "code",
   "execution_count": 9,
   "metadata": {
    "collapsed": false
   },
   "outputs": [
    {
     "name": "stdout",
     "output_type": "stream",
     "text": [
      "Initialized!\n",
      "Step 0 (epoch 0.00), 1.8 ms\n",
      "Minibatch loss: 12.054, learning rate: 0.010000\n",
      "Minibatch error: 90.6%\n",
      "Validation error: 84.6%\n",
      "Step 100 (epoch 0.12), 208.7 ms\n",
      "Minibatch loss: 3.269, learning rate: 0.010000\n",
      "Minibatch error: 6.2%\n",
      "Validation error: 6.9%\n",
      "Step 200 (epoch 0.23), 223.0 ms\n",
      "Minibatch loss: 3.474, learning rate: 0.010000\n",
      "Minibatch error: 12.5%\n",
      "Validation error: 3.6%\n",
      "Step 300 (epoch 0.35), 218.4 ms\n",
      "Minibatch loss: 3.215, learning rate: 0.010000\n",
      "Minibatch error: 7.8%\n",
      "Validation error: 3.4%\n",
      "Step 400 (epoch 0.47), 202.0 ms\n",
      "Minibatch loss: 3.224, learning rate: 0.010000\n",
      "Minibatch error: 6.2%\n",
      "Validation error: 2.8%\n",
      "Step 500 (epoch 0.58), 202.1 ms\n",
      "Minibatch loss: 3.303, learning rate: 0.010000\n",
      "Minibatch error: 7.8%\n",
      "Validation error: 2.6%\n",
      "Step 600 (epoch 0.70), 208.0 ms\n",
      "Minibatch loss: 3.212, learning rate: 0.010000\n",
      "Minibatch error: 6.2%\n",
      "Validation error: 2.7%\n",
      "Step 700 (epoch 0.81), 207.0 ms\n",
      "Minibatch loss: 3.008, learning rate: 0.010000\n",
      "Minibatch error: 3.1%\n",
      "Validation error: 2.4%\n",
      "Step 800 (epoch 0.93), 194.2 ms\n",
      "Minibatch loss: 3.082, learning rate: 0.010000\n",
      "Minibatch error: 6.2%\n",
      "Validation error: 2.1%\n",
      "Step 900 (epoch 1.05), 196.5 ms\n",
      "Minibatch loss: 2.941, learning rate: 0.009500\n",
      "Minibatch error: 3.1%\n",
      "Validation error: 1.5%\n",
      "Step 1000 (epoch 1.16), 193.6 ms\n",
      "Minibatch loss: 2.858, learning rate: 0.009500\n",
      "Minibatch error: 0.0%\n",
      "Validation error: 1.8%\n",
      "Step 1100 (epoch 1.28), 194.5 ms\n",
      "Minibatch loss: 2.824, learning rate: 0.009500\n",
      "Minibatch error: 0.0%\n",
      "Validation error: 1.6%\n",
      "Step 1200 (epoch 1.40), 193.2 ms\n",
      "Minibatch loss: 2.903, learning rate: 0.009500\n",
      "Minibatch error: 7.8%\n",
      "Validation error: 1.5%\n",
      "Step 1300 (epoch 1.51), 192.9 ms\n",
      "Minibatch loss: 2.769, learning rate: 0.009500\n",
      "Minibatch error: 0.0%\n",
      "Validation error: 1.8%\n",
      "Step 1400 (epoch 1.63), 193.1 ms\n",
      "Minibatch loss: 2.790, learning rate: 0.009500\n",
      "Minibatch error: 4.7%\n",
      "Validation error: 1.5%\n",
      "Step 1500 (epoch 1.75), 194.5 ms\n",
      "Minibatch loss: 2.858, learning rate: 0.009500\n",
      "Minibatch error: 7.8%\n",
      "Validation error: 1.3%\n",
      "Step 1600 (epoch 1.86), 194.3 ms\n",
      "Minibatch loss: 2.708, learning rate: 0.009500\n",
      "Minibatch error: 1.6%\n",
      "Validation error: 1.3%\n",
      "Step 1700 (epoch 1.98), 193.5 ms\n",
      "Minibatch loss: 2.656, learning rate: 0.009500\n",
      "Minibatch error: 0.0%\n",
      "Validation error: 1.3%\n",
      "Step 1800 (epoch 2.09), 194.6 ms\n",
      "Minibatch loss: 2.661, learning rate: 0.009025\n",
      "Minibatch error: 1.6%\n",
      "Validation error: 1.3%\n",
      "Step 1900 (epoch 2.21), 193.4 ms\n",
      "Minibatch loss: 2.644, learning rate: 0.009025\n",
      "Minibatch error: 1.6%\n",
      "Validation error: 1.2%\n",
      "Step 2000 (epoch 2.33), 193.9 ms\n",
      "Minibatch loss: 2.661, learning rate: 0.009025\n",
      "Minibatch error: 3.1%\n",
      "Validation error: 1.3%\n",
      "Step 2100 (epoch 2.44), 194.5 ms\n",
      "Minibatch loss: 2.569, learning rate: 0.009025\n",
      "Minibatch error: 0.0%\n",
      "Validation error: 1.0%\n",
      "Step 2200 (epoch 2.56), 193.3 ms\n",
      "Minibatch loss: 2.568, learning rate: 0.009025\n",
      "Minibatch error: 0.0%\n",
      "Validation error: 1.1%\n",
      "Step 2300 (epoch 2.68), 193.2 ms\n",
      "Minibatch loss: 2.548, learning rate: 0.009025\n",
      "Minibatch error: 1.6%\n",
      "Validation error: 1.2%\n",
      "Step 2400 (epoch 2.79), 193.8 ms\n",
      "Minibatch loss: 2.505, learning rate: 0.009025\n",
      "Minibatch error: 0.0%\n",
      "Validation error: 1.2%\n",
      "Step 2500 (epoch 2.91), 193.6 ms\n",
      "Minibatch loss: 2.472, learning rate: 0.009025\n",
      "Minibatch error: 0.0%\n",
      "Validation error: 1.3%\n",
      "Step 2600 (epoch 3.03), 193.8 ms\n",
      "Minibatch loss: 2.450, learning rate: 0.008574\n",
      "Minibatch error: 0.0%\n",
      "Validation error: 1.3%\n",
      "Step 2700 (epoch 3.14), 192.7 ms\n",
      "Minibatch loss: 2.498, learning rate: 0.008574\n",
      "Minibatch error: 1.6%\n",
      "Validation error: 1.2%\n",
      "Step 2800 (epoch 3.26), 193.6 ms\n",
      "Minibatch loss: 2.413, learning rate: 0.008574\n",
      "Minibatch error: 0.0%\n",
      "Validation error: 1.2%\n",
      "Step 2900 (epoch 3.37), 194.3 ms\n",
      "Minibatch loss: 2.469, learning rate: 0.008574\n",
      "Minibatch error: 3.1%\n",
      "Validation error: 1.1%\n",
      "Step 3000 (epoch 3.49), 193.5 ms\n",
      "Minibatch loss: 2.395, learning rate: 0.008574\n",
      "Minibatch error: 1.6%\n",
      "Validation error: 1.0%\n",
      "Step 3100 (epoch 3.61), 193.5 ms\n",
      "Minibatch loss: 2.397, learning rate: 0.008574\n",
      "Minibatch error: 3.1%\n",
      "Validation error: 0.9%\n",
      "Step 3200 (epoch 3.72), 195.3 ms\n",
      "Minibatch loss: 2.329, learning rate: 0.008574\n",
      "Minibatch error: 0.0%\n",
      "Validation error: 1.1%\n",
      "Step 3300 (epoch 3.84), 193.9 ms\n",
      "Minibatch loss: 2.310, learning rate: 0.008574\n",
      "Minibatch error: 0.0%\n",
      "Validation error: 1.1%\n",
      "Step 3400 (epoch 3.96), 194.5 ms\n",
      "Minibatch loss: 2.291, learning rate: 0.008574\n",
      "Minibatch error: 0.0%\n",
      "Validation error: 1.0%\n",
      "Step 3500 (epoch 4.07), 193.2 ms\n",
      "Minibatch loss: 2.275, learning rate: 0.008145\n",
      "Minibatch error: 0.0%\n",
      "Validation error: 1.1%\n",
      "Step 3600 (epoch 4.19), 194.4 ms\n",
      "Minibatch loss: 2.250, learning rate: 0.008145\n",
      "Minibatch error: 0.0%\n",
      "Validation error: 0.9%\n",
      "Step 3700 (epoch 4.31), 192.6 ms\n",
      "Minibatch loss: 2.234, learning rate: 0.008145\n",
      "Minibatch error: 0.0%\n",
      "Validation error: 1.0%\n",
      "Step 3800 (epoch 4.42), 193.5 ms\n",
      "Minibatch loss: 2.226, learning rate: 0.008145\n",
      "Minibatch error: 0.0%\n",
      "Validation error: 0.9%\n",
      "Step 3900 (epoch 4.54), 193.9 ms\n",
      "Minibatch loss: 2.319, learning rate: 0.008145\n",
      "Minibatch error: 3.1%\n",
      "Validation error: 1.0%\n",
      "Step 4000 (epoch 4.65), 193.5 ms\n",
      "Minibatch loss: 2.241, learning rate: 0.008145\n",
      "Minibatch error: 1.6%\n",
      "Validation error: 1.0%\n",
      "Step 4100 (epoch 4.77), 194.6 ms\n",
      "Minibatch loss: 2.200, learning rate: 0.008145\n",
      "Minibatch error: 3.1%\n",
      "Validation error: 0.9%\n",
      "Step 4200 (epoch 4.89), 193.3 ms\n",
      "Minibatch loss: 2.202, learning rate: 0.008145\n",
      "Minibatch error: 1.6%\n",
      "Validation error: 1.1%\n",
      "Step 4300 (epoch 5.00), 193.7 ms\n",
      "Minibatch loss: 2.260, learning rate: 0.007738\n",
      "Minibatch error: 1.6%\n",
      "Validation error: 0.9%\n",
      "Step 4400 (epoch 5.12), 193.8 ms\n",
      "Minibatch loss: 2.161, learning rate: 0.007738\n",
      "Minibatch error: 3.1%\n",
      "Validation error: 1.0%\n",
      "Step 4500 (epoch 5.24), 194.2 ms\n",
      "Minibatch loss: 2.168, learning rate: 0.007738\n",
      "Minibatch error: 3.1%\n",
      "Validation error: 0.9%\n",
      "Step 4600 (epoch 5.35), 193.4 ms\n",
      "Minibatch loss: 2.111, learning rate: 0.007738\n",
      "Minibatch error: 1.6%\n",
      "Validation error: 0.8%\n",
      "Step 4700 (epoch 5.47), 194.2 ms\n",
      "Minibatch loss: 2.104, learning rate: 0.007738\n",
      "Minibatch error: 1.6%\n",
      "Validation error: 0.8%\n",
      "Step 4800 (epoch 5.59), 193.2 ms\n",
      "Minibatch loss: 2.084, learning rate: 0.007738\n",
      "Minibatch error: 3.1%\n",
      "Validation error: 1.2%\n",
      "Step 4900 (epoch 5.70), 192.7 ms\n",
      "Minibatch loss: 2.041, learning rate: 0.007738\n",
      "Minibatch error: 0.0%\n",
      "Validation error: 0.9%\n",
      "Step 5000 (epoch 5.82), 194.4 ms\n",
      "Minibatch loss: 2.124, learning rate: 0.007738\n",
      "Minibatch error: 3.1%\n",
      "Validation error: 0.9%\n",
      "Step 5100 (epoch 5.93), 193.1 ms\n",
      "Minibatch loss: 2.004, learning rate: 0.007738\n",
      "Minibatch error: 0.0%\n",
      "Validation error: 1.0%\n",
      "Step 5200 (epoch 6.05), 192.7 ms\n",
      "Minibatch loss: 2.066, learning rate: 0.007351\n",
      "Minibatch error: 1.6%\n",
      "Validation error: 1.0%\n",
      "Step 5300 (epoch 6.17), 193.7 ms\n",
      "Minibatch loss: 1.984, learning rate: 0.007351\n",
      "Minibatch error: 0.0%\n",
      "Validation error: 1.0%\n",
      "Step 5400 (epoch 6.28), 193.2 ms\n",
      "Minibatch loss: 1.957, learning rate: 0.007351\n",
      "Minibatch error: 0.0%\n",
      "Validation error: 0.9%\n",
      "Step 5500 (epoch 6.40), 193.7 ms\n",
      "Minibatch loss: 1.966, learning rate: 0.007351\n",
      "Minibatch error: 1.6%\n",
      "Validation error: 0.9%\n",
      "Step 5600 (epoch 6.52), 192.7 ms\n",
      "Minibatch loss: 1.930, learning rate: 0.007351\n",
      "Minibatch error: 0.0%\n",
      "Validation error: 0.8%\n",
      "Step 5700 (epoch 6.63), 193.4 ms\n",
      "Minibatch loss: 1.912, learning rate: 0.007351\n",
      "Minibatch error: 0.0%\n",
      "Validation error: 1.0%\n",
      "Step 5800 (epoch 6.75), 193.7 ms\n",
      "Minibatch loss: 1.897, learning rate: 0.007351\n",
      "Minibatch error: 0.0%\n",
      "Validation error: 0.8%\n",
      "Step 5900 (epoch 6.87), 193.4 ms\n",
      "Minibatch loss: 1.891, learning rate: 0.007351\n",
      "Minibatch error: 0.0%\n",
      "Validation error: 0.8%\n",
      "Step 6000 (epoch 6.98), 193.5 ms\n",
      "Minibatch loss: 1.881, learning rate: 0.007351\n",
      "Minibatch error: 0.0%\n",
      "Validation error: 0.9%\n",
      "Step 6100 (epoch 7.10), 193.8 ms\n",
      "Minibatch loss: 1.857, learning rate: 0.006983\n",
      "Minibatch error: 0.0%\n",
      "Validation error: 0.8%\n",
      "Step 6200 (epoch 7.21), 193.1 ms\n",
      "Minibatch loss: 1.845, learning rate: 0.006983\n",
      "Minibatch error: 0.0%\n",
      "Validation error: 0.8%\n",
      "Step 6300 (epoch 7.33), 194.5 ms\n",
      "Minibatch loss: 1.839, learning rate: 0.006983\n",
      "Minibatch error: 0.0%\n",
      "Validation error: 0.9%\n",
      "Step 6400 (epoch 7.45), 193.4 ms\n",
      "Minibatch loss: 1.882, learning rate: 0.006983\n",
      "Minibatch error: 3.1%\n",
      "Validation error: 0.9%\n",
      "Step 6500 (epoch 7.56), 193.7 ms\n",
      "Minibatch loss: 1.808, learning rate: 0.006983\n",
      "Minibatch error: 0.0%\n",
      "Validation error: 0.8%\n",
      "Step 6600 (epoch 7.68), 193.8 ms\n",
      "Minibatch loss: 1.854, learning rate: 0.006983\n",
      "Minibatch error: 3.1%\n",
      "Validation error: 0.8%\n",
      "Step 6700 (epoch 7.80), 193.4 ms\n",
      "Minibatch loss: 1.783, learning rate: 0.006983\n",
      "Minibatch error: 0.0%\n",
      "Validation error: 0.8%\n",
      "Step 6800 (epoch 7.91), 193.7 ms\n",
      "Minibatch loss: 1.772, learning rate: 0.006983\n",
      "Minibatch error: 0.0%\n",
      "Validation error: 0.9%\n",
      "Step 6900 (epoch 8.03), 193.1 ms\n",
      "Minibatch loss: 1.760, learning rate: 0.006634\n",
      "Minibatch error: 0.0%\n",
      "Validation error: 0.8%\n",
      "Step 7000 (epoch 8.15), 194.0 ms\n",
      "Minibatch loss: 1.777, learning rate: 0.006634\n",
      "Minibatch error: 1.6%\n",
      "Validation error: 0.8%\n",
      "Step 7100 (epoch 8.26), 194.2 ms\n",
      "Minibatch loss: 1.747, learning rate: 0.006634\n",
      "Minibatch error: 1.6%\n",
      "Validation error: 0.8%\n",
      "Step 7200 (epoch 8.38), 193.6 ms\n",
      "Minibatch loss: 1.740, learning rate: 0.006634\n",
      "Minibatch error: 0.0%\n",
      "Validation error: 0.8%\n",
      "Step 7300 (epoch 8.49), 193.5 ms\n",
      "Minibatch loss: 1.727, learning rate: 0.006634\n",
      "Minibatch error: 1.6%\n",
      "Validation error: 0.8%\n",
      "Step 7400 (epoch 8.61), 194.6 ms\n",
      "Minibatch loss: 1.702, learning rate: 0.006634\n",
      "Minibatch error: 0.0%\n",
      "Validation error: 0.8%\n",
      "Step 7500 (epoch 8.73), 193.6 ms\n",
      "Minibatch loss: 1.702, learning rate: 0.006634\n",
      "Minibatch error: 0.0%\n",
      "Validation error: 0.8%\n",
      "Step 7600 (epoch 8.84), 193.6 ms\n",
      "Minibatch loss: 1.807, learning rate: 0.006634\n",
      "Minibatch error: 3.1%\n",
      "Validation error: 0.7%\n",
      "Step 7700 (epoch 8.96), 194.1 ms\n",
      "Minibatch loss: 1.666, learning rate: 0.006634\n",
      "Minibatch error: 0.0%\n",
      "Validation error: 0.9%\n",
      "Step 7800 (epoch 9.08), 194.0 ms\n",
      "Minibatch loss: 1.663, learning rate: 0.006302\n",
      "Minibatch error: 0.0%\n",
      "Validation error: 0.9%\n",
      "Step 7900 (epoch 9.19), 193.9 ms\n",
      "Minibatch loss: 1.657, learning rate: 0.006302\n",
      "Minibatch error: 0.0%\n",
      "Validation error: 0.9%\n",
      "Step 8000 (epoch 9.31), 193.4 ms\n",
      "Minibatch loss: 1.673, learning rate: 0.006302\n",
      "Minibatch error: 1.6%\n",
      "Validation error: 0.8%\n",
      "Step 8100 (epoch 9.43), 193.1 ms\n",
      "Minibatch loss: 1.626, learning rate: 0.006302\n",
      "Minibatch error: 0.0%\n",
      "Validation error: 0.9%\n",
      "Step 8200 (epoch 9.54), 193.4 ms\n",
      "Minibatch loss: 1.620, learning rate: 0.006302\n",
      "Minibatch error: 0.0%\n",
      "Validation error: 0.9%\n",
      "Step 8300 (epoch 9.66), 192.9 ms\n",
      "Minibatch loss: 1.607, learning rate: 0.006302\n",
      "Minibatch error: 0.0%\n",
      "Validation error: 0.9%\n",
      "Step 8400 (epoch 9.77), 194.0 ms\n",
      "Minibatch loss: 1.597, learning rate: 0.006302\n",
      "Minibatch error: 0.0%\n",
      "Validation error: 0.7%\n",
      "Step 8500 (epoch 9.89), 193.9 ms\n",
      "Minibatch loss: 1.614, learning rate: 0.006302\n",
      "Minibatch error: 3.1%\n",
      "Validation error: 0.8%\n",
      "Test error: 0.8%\n"
     ]
    }
   ],
   "source": [
    "sess = tf.Session()\n",
    "# Run all the initializers to prepare the trainable parameters.\n",
    "tf.initialize_all_variables().run(session=sess)\n",
    "train(data, sess)"
   ]
  },
  {
   "cell_type": "code",
   "execution_count": 10,
   "metadata": {
    "collapsed": false
   },
   "outputs": [
    {
     "data": {
      "text/plain": [
       "'mnist-sess'"
      ]
     },
     "execution_count": 10,
     "metadata": {},
     "output_type": "execute_result"
    }
   ],
   "source": [
    "saver = tf.train.Saver()\n",
    "saver.save(sess, 'mnist-sess')"
   ]
  },
  {
   "cell_type": "code",
   "execution_count": 11,
   "metadata": {
    "collapsed": false
   },
   "outputs": [
    {
     "data": {
      "image/png": "[encoded data removed]",
      "text/plain": [
       "<matplotlib.figure.Figure at 0x11f4420f0>"
      ]
     },
     "metadata": {},
     "output_type": "display_data"
    }
   ],
   "source": [
    "test_sample_idxs = np.random.choice(data['X_test'].shape[0], samples_per_class * num_classes)\n",
    "test_sample_images = data['X_test'][test_sample_idxs, ...]\n",
    "test_sample_predict = eval_in_batches(test_sample_images, sess)\n",
    "for i, sample_predict in enumerate(test_sample_idxs):\n",
    "    plt_idx = i + 1\n",
    "    plt.subplot(samples_per_class, num_classes, plt_idx)\n",
    "    plt.imshow(test_sample_images[i].reshape((28, 28)))\n",
    "    plt.axis('off')\n",
    "    plt.title(np.argmax(test_sample_predict[i]))\n",
    "plt.show()"
   ]
  },
  {
   "cell_type": "code",
   "execution_count": 12,
   "metadata": {
    "collapsed": false
   },
   "outputs": [
    {
     "name": "stdout",
     "output_type": "stream",
     "text": [
      "data(42000,785)\n",
      "   label  pixel0  pixel1  pixel2  pixel3  pixel4  pixel5  pixel6  pixel7  \\\n",
      "0      1       0       0       0       0       0       0       0       0   \n",
      "1      0       0       0       0       0       0       0       0       0   \n",
      "2      1       0       0       0       0       0       0       0       0   \n",
      "3      4       0       0       0       0       0       0       0       0   \n",
      "4      0       0       0       0       0       0       0       0       0   \n",
      "\n",
      "   pixel8    ...     pixel774  pixel775  pixel776  pixel777  pixel778  \\\n",
      "0       0    ...            0         0         0         0         0   \n",
      "1       0    ...            0         0         0         0         0   \n",
      "2       0    ...            0         0         0         0         0   \n",
      "3       0    ...            0         0         0         0         0   \n",
      "4       0    ...            0         0         0         0         0   \n",
      "\n",
      "   pixel779  pixel780  pixel781  pixel782  pixel783  \n",
      "0         0         0         0         0         0  \n",
      "1         0         0         0         0         0  \n",
      "2         0         0         0         0         0  \n",
      "3         0         0         0         0         0  \n",
      "4         0         0         0         0         0  \n",
      "\n",
      "[5 rows x 785 columns]\n"
     ]
    }
   ],
   "source": [
    "# load dataset from kaggle for education purpose, not competition\n",
    "import pandas as pd\n",
    "\n",
    "IMAGE_TO_DISPLAY = 8\n",
    "# read training data from CSV file \n",
    "train_data_kaggle = pd.read_csv('~/Documents/mine/data/mnist/train.csv')\n",
    "test_data_kaggle = pd.read_csv('~/Documents/mine/data/mnist/test.csv')\n",
    "\n",
    "print('data({0[0]},{0[1]})'.format(train_data_kaggle.shape))\n",
    "print (train_data_kaggle.head())"
   ]
  },
  {
   "cell_type": "markdown",
   "metadata": {},
   "source": [
    "# preprocess data"
   ]
  },
  {
   "cell_type": "code",
   "execution_count": 13,
   "metadata": {
    "collapsed": false
   },
   "outputs": [
    {
     "name": "stdout",
     "output_type": "stream",
     "text": [
      "images((42000, 28, 28, 1))\n",
      "images(28000,28,28,1)\n"
     ]
    }
   ],
   "source": [
    "images = train_data_kaggle.iloc[:,1:].values\n",
    "images = images.astype(np.float).reshape(\n",
    "    images.shape[0], IMAGE_SIZE, IMAGE_SIZE, NUM_CHANNELS)\n",
    "\n",
    "# convert from [0:255] => [0.0:1.0]\n",
    "images = (images - (PIXEL_DEPTH / 2.0)) / PIXEL_DEPTH\n",
    "\n",
    "print('images({0})'.format(images.shape))\n",
    "\n",
    "test_images = test_data_kaggle.values.reshape(\n",
    "    -1, IMAGE_SIZE, IMAGE_SIZE, NUM_CHANNELS)\n",
    "test_images = test_images.astype(np.float)\n",
    "\n",
    "# convert from [0:255] => [0.0:1.0]\n",
    "test_images = (test_images - (PIXEL_DEPTH / 2.0)) / PIXEL_DEPTH\n",
    "print('images({0[0]},{0[1]},{0[2]},{0[3]})'.format(test_images.shape))"
   ]
  },
  {
   "cell_type": "code",
   "execution_count": 14,
   "metadata": {
    "collapsed": false
   },
   "outputs": [
    {
     "name": "stdout",
     "output_type": "stream",
     "text": [
      "image_size => 28\n",
      "image_width => 6\n",
      "image_height => 6\n"
     ]
    }
   ],
   "source": [
    "image_size = images.shape[1]\n",
    "print ('image_size => {0}'.format(image_size))\n",
    "\n",
    "# in this case all images are square\n",
    "image_width = image_height = np.ceil(np.sqrt(image_size)).astype(np.uint8)\n",
    "\n",
    "print ('image_width => {0}\\nimage_height => {1}'.format(image_width,image_height))"
   ]
  },
  {
   "cell_type": "code",
   "execution_count": 15,
   "metadata": {
    "collapsed": false
   },
   "outputs": [
    {
     "name": "stdout",
     "output_type": "stream",
     "text": [
      "labels_flat(42000)\n",
      "labels_flat[8] => 5\n"
     ]
    }
   ],
   "source": [
    "labels_flat = train_data_kaggle[[0]].values.ravel()\n",
    "\n",
    "print('labels_flat({0})'.format(len(labels_flat)))\n",
    "print ('labels_flat[{0}] => {1}'.format(IMAGE_TO_DISPLAY,labels_flat[IMAGE_TO_DISPLAY]))"
   ]
  },
  {
   "cell_type": "markdown",
   "metadata": {},
   "source": [
    "For most classification problems \"one-hot vectors\" are used. A one-hot vector is a vector that contains a single element equal to $1$ and the rest of the elements equal to $0$. In this case, the $n$th digit is represented as a zero vector with $1$ in the $n$th position.\n",
    "However, tensorflow supports dense labels, so we don't need to convert it\n"
   ]
  },
  {
   "cell_type": "code",
   "execution_count": 16,
   "metadata": {
    "collapsed": false
   },
   "outputs": [
    {
     "name": "stdout",
     "output_type": "stream",
     "text": [
      "labels((42000,))\n",
      "labels[8] => 5\n"
     ]
    }
   ],
   "source": [
    "# convert class labels from scalars to one-hot vectors\n",
    "# 0 => [1 0 0 0 0 0 0 0 0 0]\n",
    "# 1 => [0 1 0 0 0 0 0 0 0 0]\n",
    "# ...\n",
    "# 9 => [0 0 0 0 0 0 0 0 0 1]\n",
    "def dense_to_one_hot(labels_dense, num_classes):\n",
    "    num_labels = labels_dense.shape[0]\n",
    "    index_offset = np.arange(num_labels) * num_classes\n",
    "    labels_one_hot = np.zeros((num_labels, num_classes))\n",
    "    labels_one_hot.flat[index_offset + labels_dense.ravel()] = 1\n",
    "    return labels_one_hot\n",
    "\n",
    "labels_count = np.unique(labels_flat).shape[0]\n",
    "# labels = dense_to_one_hot(labels_flat, labels_count)\n",
    "labels = labels_flat\n",
    "# labels = labels.astype(np.uint8)\n",
    "\n",
    "print('labels({0})'.format(labels.shape))\n",
    "print ('labels[{0}] => {1}'.format(IMAGE_TO_DISPLAY,labels[IMAGE_TO_DISPLAY]))"
   ]
  },
  {
   "cell_type": "code",
   "execution_count": 17,
   "metadata": {
    "collapsed": false
   },
   "outputs": [
    {
     "name": "stdout",
     "output_type": "stream",
     "text": [
      "train_images(37000,28)\n",
      "validation_images(5000,28)\n"
     ]
    }
   ],
   "source": [
    "# split data into training & validation\n",
    "validation_images = images[:VALIDATION_SIZE]\n",
    "validation_labels = labels[:VALIDATION_SIZE]\n",
    "\n",
    "train_images = images[VALIDATION_SIZE:]\n",
    "train_labels = labels[VALIDATION_SIZE:]\n",
    "\n",
    "print('train_images({0[0]},{0[1]})'.format(train_images.shape))\n",
    "print('validation_images({0[0]},{0[1]})'.format(validation_images.shape))"
   ]
  },
  {
   "cell_type": "code",
   "execution_count": 18,
   "metadata": {
    "collapsed": false
   },
   "outputs": [],
   "source": [
    "labels_predict_kaggle = eval_in_batches(train_images, sess)"
   ]
  },
  {
   "cell_type": "code",
   "execution_count": 19,
   "metadata": {
    "collapsed": false
   },
   "outputs": [
    {
     "name": "stdout",
     "output_type": "stream",
     "text": [
      "trains error: 0.3%\n"
     ]
    }
   ],
   "source": [
    "print('trains error: %.1f%%' % error_rate(labels_predict_kaggle, train_labels))"
   ]
  },
  {
   "cell_type": "markdown",
   "metadata": {},
   "source": [
    "# predict and write predictions to file"
   ]
  },
  {
   "cell_type": "code",
   "execution_count": 20,
   "metadata": {
    "collapsed": true
   },
   "outputs": [],
   "source": [
    "labels_predict_kaggle_test = eval_in_batches(test_images, sess)"
   ]
  },
  {
   "cell_type": "code",
   "execution_count": 21,
   "metadata": {
    "collapsed": true
   },
   "outputs": [],
   "source": [
    "with open('submit.csv', 'w') as f:\n",
    "    f.write('ImageId,Label\\n')\n",
    "    for i in range(labels_predict_kaggle_test.shape[0]):\n",
    "        f.write('%d,%d\\n' % (i+1, np.argmax(labels_predict_kaggle_test[i])))"
   ]
  }
 ],
 "metadata": {
  "kernelspec": {
   "display_name": "Python 3",
   "language": "python",
   "name": "python3"
  },
  "language_info": {
   "codemirror_mode": {
    "name": "ipython",
    "version": 3
   },
   "file_extension": ".py",
   "mimetype": "text/x-python",
   "name": "python",
   "nbconvert_exporter": "python",
   "pygments_lexer": "ipython3",
   "version": "3.5.1"
  }
 },
 "nbformat": 4,
 "nbformat_minor": 0
}
